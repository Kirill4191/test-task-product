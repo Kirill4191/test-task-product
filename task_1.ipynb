{
 "cells": [
  {
   "cell_type": "code",
   "execution_count": 1,
   "id": "e067da8a",
   "metadata": {},
   "outputs": [],
   "source": [
    "import pandas as pd\n",
    "import numpy as np\n",
    "import datetime as dt\n",
    "import matplotlib.pyplot as plt\n",
    "from scipy.optimize import curve_fit"
   ]
  },
  {
   "cell_type": "markdown",
   "id": "932a96d9",
   "metadata": {},
   "source": [
    "# Ответы и вывод доступны в самом низу ноутбука"
   ]
  },
  {
   "cell_type": "markdown",
   "id": "130560cc",
   "metadata": {},
   "source": [
    "## Загрузка датасета"
   ]
  },
  {
   "cell_type": "code",
   "execution_count": 2,
   "id": "60edeb0a",
   "metadata": {},
   "outputs": [],
   "source": [
    "# Редактирую ссылку на Google Drive, чтобы загрузить excel \n",
    "\n",
    "url = 'https://docs.google.com/spreadsheets/d/1L8843A80r50_e-hU79XV_ssAfzgQVUDP/edit#gid=53539924'\n",
    "\n",
    "url2 = url.replace('/edit#gid=', '/export?format=csv&gid=')"
   ]
  },
  {
   "cell_type": "code",
   "execution_count": 3,
   "id": "ba974684",
   "metadata": {},
   "outputs": [],
   "source": [
    "# Загружаю данные\n",
    "\n",
    "df = pd.read_csv(url2, parse_dates=['purchase_date'])"
   ]
  },
  {
   "cell_type": "markdown",
   "id": "aa3fe7dc",
   "metadata": {},
   "source": [
    "## Предварительный анализ датасета"
   ]
  },
  {
   "cell_type": "code",
   "execution_count": 4,
   "id": "91f106a0",
   "metadata": {},
   "outputs": [],
   "source": [
    "# Изучаю датасет"
   ]
  },
  {
   "cell_type": "code",
   "execution_count": 5,
   "id": "ad6b7055",
   "metadata": {},
   "outputs": [
    {
     "data": {
      "text/html": [
       "<div>\n",
       "<style scoped>\n",
       "    .dataframe tbody tr th:only-of-type {\n",
       "        vertical-align: middle;\n",
       "    }\n",
       "\n",
       "    .dataframe tbody tr th {\n",
       "        vertical-align: top;\n",
       "    }\n",
       "\n",
       "    .dataframe thead th {\n",
       "        text-align: right;\n",
       "    }\n",
       "</style>\n",
       "<table border=\"1\" class=\"dataframe\">\n",
       "  <thead>\n",
       "    <tr style=\"text-align: right;\">\n",
       "      <th></th>\n",
       "      <th>product_id</th>\n",
       "      <th>quantity</th>\n",
       "      <th>is_trial_period</th>\n",
       "      <th>purchase_date</th>\n",
       "      <th>user_id</th>\n",
       "    </tr>\n",
       "  </thead>\n",
       "  <tbody>\n",
       "    <tr>\n",
       "      <th>0</th>\n",
       "      <td>1week_4.99_USD_subscription_7days_trial</td>\n",
       "      <td>1</td>\n",
       "      <td>False</td>\n",
       "      <td>2020-02-19</td>\n",
       "      <td>9484222</td>\n",
       "    </tr>\n",
       "    <tr>\n",
       "      <th>1</th>\n",
       "      <td>1week_4.99_USD_subscription_7days_trial</td>\n",
       "      <td>1</td>\n",
       "      <td>False</td>\n",
       "      <td>2020-02-17</td>\n",
       "      <td>9422402</td>\n",
       "    </tr>\n",
       "    <tr>\n",
       "      <th>2</th>\n",
       "      <td>1week_4.99_USD_subscription_7days_trial</td>\n",
       "      <td>1</td>\n",
       "      <td>False</td>\n",
       "      <td>2020-02-18</td>\n",
       "      <td>4997991</td>\n",
       "    </tr>\n",
       "    <tr>\n",
       "      <th>3</th>\n",
       "      <td>1week_4.99_USD_subscription_7days_trial</td>\n",
       "      <td>1</td>\n",
       "      <td>False</td>\n",
       "      <td>2020-02-18</td>\n",
       "      <td>9455582</td>\n",
       "    </tr>\n",
       "    <tr>\n",
       "      <th>4</th>\n",
       "      <td>1week_4.99_USD_subscription_7days_trial</td>\n",
       "      <td>1</td>\n",
       "      <td>False</td>\n",
       "      <td>2020-02-16</td>\n",
       "      <td>8803657</td>\n",
       "    </tr>\n",
       "  </tbody>\n",
       "</table>\n",
       "</div>"
      ],
      "text/plain": [
       "                                product_id  quantity  is_trial_period  \\\n",
       "0  1week_4.99_USD_subscription_7days_trial         1            False   \n",
       "1  1week_4.99_USD_subscription_7days_trial         1            False   \n",
       "2  1week_4.99_USD_subscription_7days_trial         1            False   \n",
       "3  1week_4.99_USD_subscription_7days_trial         1            False   \n",
       "4  1week_4.99_USD_subscription_7days_trial         1            False   \n",
       "\n",
       "  purchase_date  user_id  \n",
       "0    2020-02-19  9484222  \n",
       "1    2020-02-17  9422402  \n",
       "2    2020-02-18  4997991  \n",
       "3    2020-02-18  9455582  \n",
       "4    2020-02-16  8803657  "
      ]
     },
     "execution_count": 5,
     "metadata": {},
     "output_type": "execute_result"
    }
   ],
   "source": [
    "df.head()"
   ]
  },
  {
   "cell_type": "code",
   "execution_count": 6,
   "id": "88816fe2",
   "metadata": {},
   "outputs": [
    {
     "name": "stdout",
     "output_type": "stream",
     "text": [
      "<class 'pandas.core.frame.DataFrame'>\n",
      "RangeIndex: 114200 entries, 0 to 114199\n",
      "Data columns (total 5 columns):\n",
      " #   Column           Non-Null Count   Dtype         \n",
      "---  ------           --------------   -----         \n",
      " 0   product_id       114200 non-null  object        \n",
      " 1   quantity         114200 non-null  int64         \n",
      " 2   is_trial_period  114200 non-null  bool          \n",
      " 3   purchase_date    114200 non-null  datetime64[ns]\n",
      " 4   user_id          114200 non-null  int64         \n",
      "dtypes: bool(1), datetime64[ns](1), int64(2), object(1)\n",
      "memory usage: 3.6+ MB\n"
     ]
    }
   ],
   "source": [
    "df.info()"
   ]
  },
  {
   "cell_type": "code",
   "execution_count": 7,
   "id": "1d65b3f2",
   "metadata": {},
   "outputs": [
    {
     "data": {
      "text/plain": [
       "product_id                               quantity  is_trial_period\n",
       "1week_4.99_USD_subscription_7days_trial  1         True               63008\n",
       "                                                   False              51192\n",
       "dtype: int64"
      ]
     },
     "execution_count": 7,
     "metadata": {},
     "output_type": "execute_result"
    }
   ],
   "source": [
    "df[['product_id', 'quantity', 'is_trial_period']].value_counts()"
   ]
  },
  {
   "cell_type": "code",
   "execution_count": 8,
   "id": "00d1b3d5",
   "metadata": {},
   "outputs": [
    {
     "data": {
      "text/plain": [
       "product_id                               quantity  is_trial_period  purchase_date  user_id\n",
       "1week_4.99_USD_subscription_7days_trial  1         False            2020-02-16     9584301    6\n",
       "                                                                    2020-01-22     8671902    2\n",
       "                                                   True             2020-01-08     8450482    2\n",
       "                                                                    2020-01-09     8486473    2\n",
       "                                                                    2020-01-23     8928229    2\n",
       "                                                                                             ..\n",
       "                                                                    2020-01-14     8650192    1\n",
       "                                                                                   8657144    1\n",
       "                                                                    2020-01-15     8670525    1\n",
       "                                                   False            2020-01-24     1335694    1\n",
       "                                                   True             2020-02-16     9591977    1\n",
       "Length: 65, dtype: int64"
      ]
     },
     "execution_count": 8,
     "metadata": {},
     "output_type": "execute_result"
    }
   ],
   "source": [
    "# Проверяю есть ли дубли\n",
    "\n",
    "df[df.duplicated()].value_counts()"
   ]
  },
  {
   "cell_type": "code",
   "execution_count": 9,
   "id": "29e82b63",
   "metadata": {},
   "outputs": [
    {
     "name": "stdout",
     "output_type": "stream",
     "text": [
      "Кол-во дублей:  84\n",
      "Доля дублей:  0.074\n"
     ]
    }
   ],
   "source": [
    "# Проверяю количество дублей\n",
    "\n",
    "print('Кол-во дублей: ', df[df.duplicated()].value_counts().sum())\n",
    "\n",
    "print('Доля дублей: ', round((df[df.duplicated()].value_counts().sum() / df.product_id.count() * 100), 3))"
   ]
  },
  {
   "cell_type": "markdown",
   "id": "c0599a9e",
   "metadata": {},
   "source": [
    "## Подготовка датасета для дальнейших расчётов"
   ]
  },
  {
   "cell_type": "code",
   "execution_count": 10,
   "id": "9635dd66",
   "metadata": {},
   "outputs": [],
   "source": [
    "# В данных присутствуют дубли, предполагаю, что несколько триалов/покупок в одну и ту же дату\n",
    "# для 1 юзера - это скорее задублированные данные, чем поведение юзера -> дропаю их\n",
    "# Т.к. дублей очень мало, даже если это особенность поведения юзера, на дальнейшие расчёты существенного влияния не окажет\n",
    "\n",
    "df2 = df.drop_duplicates()"
   ]
  },
  {
   "cell_type": "code",
   "execution_count": 11,
   "id": "7f700d6e",
   "metadata": {},
   "outputs": [
    {
     "data": {
      "text/plain": [
       "user_id\n",
       "8796120    2\n",
       "5627786    2\n",
       "8498380    2\n",
       "9287947    2\n",
       "8311720    2\n",
       "          ..\n",
       "8636348    1\n",
       "8636357    1\n",
       "8636368    1\n",
       "8636375    1\n",
       "9694775    1\n",
       "Name: is_trial_period, Length: 62909, dtype: int64"
      ]
     },
     "execution_count": 11,
     "metadata": {},
     "output_type": "execute_result"
    }
   ],
   "source": [
    "# Проверяю есть ли случаи, когда юзер оформлял больше 1 триала в разные дни\n",
    "\n",
    "df2[df2.is_trial_period==True].groupby('user_id').is_trial_period.count().sort_values(ascending = False)"
   ]
  },
  {
   "cell_type": "code",
   "execution_count": 12,
   "id": "cbf1ef82",
   "metadata": {},
   "outputs": [
    {
     "name": "stderr",
     "output_type": "stream",
     "text": [
      "<ipython-input-12-7de709142451>:6: SettingWithCopyWarning: \n",
      "A value is trying to be set on a copy of a slice from a DataFrame.\n",
      "Try using .loc[row_indexer,col_indexer] = value instead\n",
      "\n",
      "See the caveats in the documentation: https://pandas.pydata.org/pandas-docs/stable/user_guide/indexing.html#returning-a-view-versus-a-copy\n",
      "  df2['earliest_purchase_date'] = df2.groupby(['user_id']).purchase_date.transform('min')\n"
     ]
    }
   ],
   "source": [
    "# Часть юзеров оформляли пробную подписку несколько раз в разные дни, как обрабатывать такие случаи? \n",
    "# Буду вести отсчёт с самой ранней триальной подписки, считая что за одного и того же юзера заплатили только 1 раз\n",
    "\n",
    "# Добавляю столбец с датой самой ранней триальной подписки юзера, чтобы пересчитать даты покупок относительно даты триала\n",
    "\n",
    "df2['earliest_purchase_date'] = df2.groupby(['user_id']).purchase_date.transform('min')"
   ]
  },
  {
   "cell_type": "code",
   "execution_count": 13,
   "id": "d71f794c",
   "metadata": {},
   "outputs": [
    {
     "name": "stderr",
     "output_type": "stream",
     "text": [
      "<ipython-input-13-e88eeeaf72d6>:3: SettingWithCopyWarning: \n",
      "A value is trying to be set on a copy of a slice from a DataFrame.\n",
      "Try using .loc[row_indexer,col_indexer] = value instead\n",
      "\n",
      "See the caveats in the documentation: https://pandas.pydata.org/pandas-docs/stable/user_guide/indexing.html#returning-a-view-versus-a-copy\n",
      "  df2['weeks_sinse_trial'] = np.ceil((df2.purchase_date - df2.earliest_purchase_date).dt.days.astype(int) / 7).astype(int)\n"
     ]
    }
   ],
   "source": [
    "# Добавляю номер недели в которую произошло событие относительно даты самой ранней триальной подписки юзера\n",
    "\n",
    "df2['weeks_sinse_trial'] = np.ceil((df2.purchase_date - df2.earliest_purchase_date).dt.days.astype(int) / 7).astype(int)"
   ]
  },
  {
   "cell_type": "code",
   "execution_count": 14,
   "id": "fb058008",
   "metadata": {},
   "outputs": [
    {
     "name": "stderr",
     "output_type": "stream",
     "text": [
      "<ipython-input-14-70c0d256bb17>:3: SettingWithCopyWarning: \n",
      "A value is trying to be set on a copy of a slice from a DataFrame.\n",
      "Try using .loc[row_indexer,col_indexer] = value instead\n",
      "\n",
      "See the caveats in the documentation: https://pandas.pydata.org/pandas-docs/stable/user_guide/indexing.html#returning-a-view-versus-a-copy\n",
      "  df2['revenue'] = np.where(df2.is_trial_period == False, 4.99, 0)\n"
     ]
    }
   ],
   "source": [
    "# Добавляю столбец с ценой подписки для удобства подсчёта, $0 для is_triaL_period = True, $4.99 для is_triaL_period = False\n",
    "\n",
    "df2['revenue'] = np.where(df2.is_trial_period == False, 4.99, 0)"
   ]
  },
  {
   "cell_type": "code",
   "execution_count": 15,
   "id": "985783b6",
   "metadata": {},
   "outputs": [
    {
     "name": "stderr",
     "output_type": "stream",
     "text": [
      "<ipython-input-15-d98fa50cef61>:4: SettingWithCopyWarning: \n",
      "A value is trying to be set on a copy of a slice from a DataFrame.\n",
      "Try using .loc[row_indexer,col_indexer] = value instead\n",
      "\n",
      "See the caveats in the documentation: https://pandas.pydata.org/pandas-docs/stable/user_guide/indexing.html#returning-a-view-versus-a-copy\n",
      "  df2['cohort'] = df2.groupby(['user_id']).quantity.transform('count')\n"
     ]
    }
   ],
   "source": [
    "# Добавляю столбец с когортами к которым относится каждый юзер. \n",
    "# Номер когорты = количество событий совершенных юзером (кол-во триалов + кол-во оплат)\n",
    "\n",
    "df2['cohort'] = df2.groupby(['user_id']).quantity.transform('count')"
   ]
  },
  {
   "cell_type": "code",
   "execution_count": 16,
   "id": "9d3dc6f1",
   "metadata": {},
   "outputs": [
    {
     "data": {
      "text/plain": [
       "2020-02-19    184\n",
       "2020-02-20     82\n",
       "2020-02-18     50\n",
       "2020-02-17     36\n",
       "2020-02-15     30\n",
       "2020-02-16     24\n",
       "2020-02-14     24\n",
       "2020-02-13      8\n",
       "Name: purchase_date, dtype: int64"
      ]
     },
     "execution_count": 16,
     "metadata": {},
     "output_type": "execute_result"
    }
   ],
   "source": [
    "df2[df2.weeks_sinse_trial==7].purchase_date.value_counts()"
   ]
  },
  {
   "cell_type": "markdown",
   "id": "c269d313",
   "metadata": {},
   "source": [
    "## 1. Рассчёт текущего LTV юзера, используя когортный анализ"
   ]
  },
  {
   "cell_type": "code",
   "execution_count": 17,
   "id": "6ea05adc",
   "metadata": {},
   "outputs": [],
   "source": [
    "# Как я понимаю, в этом пункте хочется получить LTV в виде одной цифры, т.е. не на какую-то дату (например на третью неделю)\n",
    "\n",
    "# Рассчитаем выруску накопительным итогом по когортам, затем рахделим на кол-во юзеров в когорте,\n",
    "# таким образом получим LTV юзера в когорте\n",
    "\n",
    "# Далее посчитаем среднее взвешанное LTV по когортам"
   ]
  },
  {
   "cell_type": "code",
   "execution_count": 18,
   "id": "5cc3ad99",
   "metadata": {},
   "outputs": [],
   "source": [
    "# Выручка накопительным итогом\n",
    "cumsum_revenue_pivot = df2.pivot_table(index = ['cohort'], columns = ['weeks_sinse_trial'], values = ['revenue'], aggfunc = 'sum').cumsum(axis=1)\n",
    "\n",
    "# NaN заполним по строкам\n",
    "cumsum_revenue_pivot_nona = cumsum_revenue_pivot.fillna(method='ffill', axis=1)"
   ]
  },
  {
   "cell_type": "code",
   "execution_count": 19,
   "id": "4dce1e55",
   "metadata": {},
   "outputs": [
    {
     "data": {
      "text/html": [
       "<div>\n",
       "<style scoped>\n",
       "    .dataframe tbody tr th:only-of-type {\n",
       "        vertical-align: middle;\n",
       "    }\n",
       "\n",
       "    .dataframe tbody tr th {\n",
       "        vertical-align: top;\n",
       "    }\n",
       "\n",
       "    .dataframe thead tr th {\n",
       "        text-align: left;\n",
       "    }\n",
       "\n",
       "    .dataframe thead tr:last-of-type th {\n",
       "        text-align: right;\n",
       "    }\n",
       "</style>\n",
       "<table border=\"1\" class=\"dataframe\">\n",
       "  <thead>\n",
       "    <tr>\n",
       "      <th></th>\n",
       "      <th colspan=\"9\" halign=\"left\">revenue</th>\n",
       "    </tr>\n",
       "    <tr>\n",
       "      <th>weeks_sinse_trial</th>\n",
       "      <th>0</th>\n",
       "      <th>1</th>\n",
       "      <th>2</th>\n",
       "      <th>3</th>\n",
       "      <th>4</th>\n",
       "      <th>5</th>\n",
       "      <th>6</th>\n",
       "      <th>7</th>\n",
       "      <th>8</th>\n",
       "    </tr>\n",
       "    <tr>\n",
       "      <th>cohort</th>\n",
       "      <th></th>\n",
       "      <th></th>\n",
       "      <th></th>\n",
       "      <th></th>\n",
       "      <th></th>\n",
       "      <th></th>\n",
       "      <th></th>\n",
       "      <th></th>\n",
       "      <th></th>\n",
       "    </tr>\n",
       "  </thead>\n",
       "  <tbody>\n",
       "    <tr>\n",
       "      <th>1</th>\n",
       "      <td>0.00</td>\n",
       "      <td>NaN</td>\n",
       "      <td>NaN</td>\n",
       "      <td>NaN</td>\n",
       "      <td>NaN</td>\n",
       "      <td>NaN</td>\n",
       "      <td>NaN</td>\n",
       "      <td>NaN</td>\n",
       "      <td>NaN</td>\n",
       "    </tr>\n",
       "    <tr>\n",
       "      <th>2</th>\n",
       "      <td>9.98</td>\n",
       "      <td>29645.59</td>\n",
       "      <td>32869.13</td>\n",
       "      <td>34136.59</td>\n",
       "      <td>34925.01</td>\n",
       "      <td>35588.68</td>\n",
       "      <td>35818.22</td>\n",
       "      <td>35883.09</td>\n",
       "      <td>NaN</td>\n",
       "    </tr>\n",
       "    <tr>\n",
       "      <th>3</th>\n",
       "      <td>0.00</td>\n",
       "      <td>17629.67</td>\n",
       "      <td>35289.28</td>\n",
       "      <td>37894.06</td>\n",
       "      <td>39196.45</td>\n",
       "      <td>39939.96</td>\n",
       "      <td>40214.41</td>\n",
       "      <td>40299.24</td>\n",
       "      <td>NaN</td>\n",
       "    </tr>\n",
       "    <tr>\n",
       "      <th>4</th>\n",
       "      <td>9.98</td>\n",
       "      <td>12045.86</td>\n",
       "      <td>24286.33</td>\n",
       "      <td>36656.54</td>\n",
       "      <td>38887.07</td>\n",
       "      <td>39885.07</td>\n",
       "      <td>40344.15</td>\n",
       "      <td>40438.96</td>\n",
       "      <td>NaN</td>\n",
       "    </tr>\n",
       "    <tr>\n",
       "      <th>5</th>\n",
       "      <td>4.99</td>\n",
       "      <td>10089.78</td>\n",
       "      <td>20114.69</td>\n",
       "      <td>30309.26</td>\n",
       "      <td>40578.68</td>\n",
       "      <td>42270.29</td>\n",
       "      <td>42993.84</td>\n",
       "      <td>43208.41</td>\n",
       "      <td>43213.40</td>\n",
       "    </tr>\n",
       "    <tr>\n",
       "      <th>6</th>\n",
       "      <td>4.99</td>\n",
       "      <td>8468.03</td>\n",
       "      <td>17000.93</td>\n",
       "      <td>25458.98</td>\n",
       "      <td>33966.93</td>\n",
       "      <td>42554.72</td>\n",
       "      <td>43627.57</td>\n",
       "      <td>43827.17</td>\n",
       "      <td>43832.16</td>\n",
       "    </tr>\n",
       "    <tr>\n",
       "      <th>7</th>\n",
       "      <td>9.98</td>\n",
       "      <td>7320.33</td>\n",
       "      <td>14625.69</td>\n",
       "      <td>21970.97</td>\n",
       "      <td>29276.33</td>\n",
       "      <td>36611.63</td>\n",
       "      <td>43936.95</td>\n",
       "      <td>44415.99</td>\n",
       "      <td>NaN</td>\n",
       "    </tr>\n",
       "    <tr>\n",
       "      <th>8</th>\n",
       "      <td>4.99</td>\n",
       "      <td>1042.91</td>\n",
       "      <td>2075.84</td>\n",
       "      <td>3113.76</td>\n",
       "      <td>4151.68</td>\n",
       "      <td>5179.62</td>\n",
       "      <td>6217.54</td>\n",
       "      <td>7255.46</td>\n",
       "      <td>7265.44</td>\n",
       "    </tr>\n",
       "  </tbody>\n",
       "</table>\n",
       "</div>"
      ],
      "text/plain": [
       "                  revenue                                                    \\\n",
       "weeks_sinse_trial       0         1         2         3         4         5   \n",
       "cohort                                                                        \n",
       "1                    0.00       NaN       NaN       NaN       NaN       NaN   \n",
       "2                    9.98  29645.59  32869.13  34136.59  34925.01  35588.68   \n",
       "3                    0.00  17629.67  35289.28  37894.06  39196.45  39939.96   \n",
       "4                    9.98  12045.86  24286.33  36656.54  38887.07  39885.07   \n",
       "5                    4.99  10089.78  20114.69  30309.26  40578.68  42270.29   \n",
       "6                    4.99   8468.03  17000.93  25458.98  33966.93  42554.72   \n",
       "7                    9.98   7320.33  14625.69  21970.97  29276.33  36611.63   \n",
       "8                    4.99   1042.91   2075.84   3113.76   4151.68   5179.62   \n",
       "\n",
       "                                                 \n",
       "weeks_sinse_trial         6         7         8  \n",
       "cohort                                           \n",
       "1                       NaN       NaN       NaN  \n",
       "2                  35818.22  35883.09       NaN  \n",
       "3                  40214.41  40299.24       NaN  \n",
       "4                  40344.15  40438.96       NaN  \n",
       "5                  42993.84  43208.41  43213.40  \n",
       "6                  43627.57  43827.17  43832.16  \n",
       "7                  43936.95  44415.99       NaN  \n",
       "8                   6217.54   7255.46   7265.44  "
      ]
     },
     "execution_count": 19,
     "metadata": {},
     "output_type": "execute_result"
    }
   ],
   "source": [
    "cumsum_revenue_pivot"
   ]
  },
  {
   "cell_type": "code",
   "execution_count": 20,
   "id": "e7e19b9c",
   "metadata": {},
   "outputs": [
    {
     "data": {
      "text/html": [
       "<div>\n",
       "<style scoped>\n",
       "    .dataframe tbody tr th:only-of-type {\n",
       "        vertical-align: middle;\n",
       "    }\n",
       "\n",
       "    .dataframe tbody tr th {\n",
       "        vertical-align: top;\n",
       "    }\n",
       "\n",
       "    .dataframe thead tr th {\n",
       "        text-align: left;\n",
       "    }\n",
       "\n",
       "    .dataframe thead tr:last-of-type th {\n",
       "        text-align: right;\n",
       "    }\n",
       "</style>\n",
       "<table border=\"1\" class=\"dataframe\">\n",
       "  <thead>\n",
       "    <tr>\n",
       "      <th></th>\n",
       "      <th colspan=\"9\" halign=\"left\">revenue</th>\n",
       "    </tr>\n",
       "    <tr>\n",
       "      <th>weeks_sinse_trial</th>\n",
       "      <th>0</th>\n",
       "      <th>1</th>\n",
       "      <th>2</th>\n",
       "      <th>3</th>\n",
       "      <th>4</th>\n",
       "      <th>5</th>\n",
       "      <th>6</th>\n",
       "      <th>7</th>\n",
       "      <th>8</th>\n",
       "    </tr>\n",
       "    <tr>\n",
       "      <th>cohort</th>\n",
       "      <th></th>\n",
       "      <th></th>\n",
       "      <th></th>\n",
       "      <th></th>\n",
       "      <th></th>\n",
       "      <th></th>\n",
       "      <th></th>\n",
       "      <th></th>\n",
       "      <th></th>\n",
       "    </tr>\n",
       "  </thead>\n",
       "  <tbody>\n",
       "    <tr>\n",
       "      <th>1</th>\n",
       "      <td>0.00</td>\n",
       "      <td>0.00</td>\n",
       "      <td>0.00</td>\n",
       "      <td>0.00</td>\n",
       "      <td>0.00</td>\n",
       "      <td>0.00</td>\n",
       "      <td>0.00</td>\n",
       "      <td>0.00</td>\n",
       "      <td>0.00</td>\n",
       "    </tr>\n",
       "    <tr>\n",
       "      <th>2</th>\n",
       "      <td>9.98</td>\n",
       "      <td>29645.59</td>\n",
       "      <td>32869.13</td>\n",
       "      <td>34136.59</td>\n",
       "      <td>34925.01</td>\n",
       "      <td>35588.68</td>\n",
       "      <td>35818.22</td>\n",
       "      <td>35883.09</td>\n",
       "      <td>35883.09</td>\n",
       "    </tr>\n",
       "    <tr>\n",
       "      <th>3</th>\n",
       "      <td>0.00</td>\n",
       "      <td>17629.67</td>\n",
       "      <td>35289.28</td>\n",
       "      <td>37894.06</td>\n",
       "      <td>39196.45</td>\n",
       "      <td>39939.96</td>\n",
       "      <td>40214.41</td>\n",
       "      <td>40299.24</td>\n",
       "      <td>40299.24</td>\n",
       "    </tr>\n",
       "    <tr>\n",
       "      <th>4</th>\n",
       "      <td>9.98</td>\n",
       "      <td>12045.86</td>\n",
       "      <td>24286.33</td>\n",
       "      <td>36656.54</td>\n",
       "      <td>38887.07</td>\n",
       "      <td>39885.07</td>\n",
       "      <td>40344.15</td>\n",
       "      <td>40438.96</td>\n",
       "      <td>40438.96</td>\n",
       "    </tr>\n",
       "    <tr>\n",
       "      <th>5</th>\n",
       "      <td>4.99</td>\n",
       "      <td>10089.78</td>\n",
       "      <td>20114.69</td>\n",
       "      <td>30309.26</td>\n",
       "      <td>40578.68</td>\n",
       "      <td>42270.29</td>\n",
       "      <td>42993.84</td>\n",
       "      <td>43208.41</td>\n",
       "      <td>43213.40</td>\n",
       "    </tr>\n",
       "    <tr>\n",
       "      <th>6</th>\n",
       "      <td>4.99</td>\n",
       "      <td>8468.03</td>\n",
       "      <td>17000.93</td>\n",
       "      <td>25458.98</td>\n",
       "      <td>33966.93</td>\n",
       "      <td>42554.72</td>\n",
       "      <td>43627.57</td>\n",
       "      <td>43827.17</td>\n",
       "      <td>43832.16</td>\n",
       "    </tr>\n",
       "    <tr>\n",
       "      <th>7</th>\n",
       "      <td>9.98</td>\n",
       "      <td>7320.33</td>\n",
       "      <td>14625.69</td>\n",
       "      <td>21970.97</td>\n",
       "      <td>29276.33</td>\n",
       "      <td>36611.63</td>\n",
       "      <td>43936.95</td>\n",
       "      <td>44415.99</td>\n",
       "      <td>44415.99</td>\n",
       "    </tr>\n",
       "    <tr>\n",
       "      <th>8</th>\n",
       "      <td>4.99</td>\n",
       "      <td>1042.91</td>\n",
       "      <td>2075.84</td>\n",
       "      <td>3113.76</td>\n",
       "      <td>4151.68</td>\n",
       "      <td>5179.62</td>\n",
       "      <td>6217.54</td>\n",
       "      <td>7255.46</td>\n",
       "      <td>7265.44</td>\n",
       "    </tr>\n",
       "  </tbody>\n",
       "</table>\n",
       "</div>"
      ],
      "text/plain": [
       "                  revenue                                                    \\\n",
       "weeks_sinse_trial       0         1         2         3         4         5   \n",
       "cohort                                                                        \n",
       "1                    0.00      0.00      0.00      0.00      0.00      0.00   \n",
       "2                    9.98  29645.59  32869.13  34136.59  34925.01  35588.68   \n",
       "3                    0.00  17629.67  35289.28  37894.06  39196.45  39939.96   \n",
       "4                    9.98  12045.86  24286.33  36656.54  38887.07  39885.07   \n",
       "5                    4.99  10089.78  20114.69  30309.26  40578.68  42270.29   \n",
       "6                    4.99   8468.03  17000.93  25458.98  33966.93  42554.72   \n",
       "7                    9.98   7320.33  14625.69  21970.97  29276.33  36611.63   \n",
       "8                    4.99   1042.91   2075.84   3113.76   4151.68   5179.62   \n",
       "\n",
       "                                                 \n",
       "weeks_sinse_trial         6         7         8  \n",
       "cohort                                           \n",
       "1                      0.00      0.00      0.00  \n",
       "2                  35818.22  35883.09  35883.09  \n",
       "3                  40214.41  40299.24  40299.24  \n",
       "4                  40344.15  40438.96  40438.96  \n",
       "5                  42993.84  43208.41  43213.40  \n",
       "6                  43627.57  43827.17  43832.16  \n",
       "7                  43936.95  44415.99  44415.99  \n",
       "8                   6217.54   7255.46   7265.44  "
      ]
     },
     "execution_count": 20,
     "metadata": {},
     "output_type": "execute_result"
    }
   ],
   "source": [
    "cumsum_revenue_pivot_nona"
   ]
  },
  {
   "cell_type": "code",
   "execution_count": 21,
   "id": "78570515",
   "metadata": {},
   "outputs": [],
   "source": [
    "#Кол-во юзеров совершивших действия в каждую отдельную неделю по когортам\n",
    "\n",
    "unique_users_count_pivot = df2.pivot_table(index = ['cohort'], columns = ['weeks_sinse_trial'], values = 'user_id', aggfunc = pd.Series.nunique)"
   ]
  },
  {
   "cell_type": "code",
   "execution_count": 22,
   "id": "96f5813f",
   "metadata": {},
   "outputs": [
    {
     "data": {
      "text/html": [
       "<div>\n",
       "<style scoped>\n",
       "    .dataframe tbody tr th:only-of-type {\n",
       "        vertical-align: middle;\n",
       "    }\n",
       "\n",
       "    .dataframe tbody tr th {\n",
       "        vertical-align: top;\n",
       "    }\n",
       "\n",
       "    .dataframe thead th {\n",
       "        text-align: right;\n",
       "    }\n",
       "</style>\n",
       "<table border=\"1\" class=\"dataframe\">\n",
       "  <thead>\n",
       "    <tr style=\"text-align: right;\">\n",
       "      <th>weeks_sinse_trial</th>\n",
       "      <th>0</th>\n",
       "      <th>1</th>\n",
       "      <th>2</th>\n",
       "      <th>3</th>\n",
       "      <th>4</th>\n",
       "      <th>5</th>\n",
       "      <th>6</th>\n",
       "      <th>7</th>\n",
       "      <th>8</th>\n",
       "    </tr>\n",
       "    <tr>\n",
       "      <th>cohort</th>\n",
       "      <th></th>\n",
       "      <th></th>\n",
       "      <th></th>\n",
       "      <th></th>\n",
       "      <th></th>\n",
       "      <th></th>\n",
       "      <th></th>\n",
       "      <th></th>\n",
       "      <th></th>\n",
       "    </tr>\n",
       "  </thead>\n",
       "  <tbody>\n",
       "    <tr>\n",
       "      <th>1</th>\n",
       "      <td>43336.0</td>\n",
       "      <td>NaN</td>\n",
       "      <td>NaN</td>\n",
       "      <td>NaN</td>\n",
       "      <td>NaN</td>\n",
       "      <td>NaN</td>\n",
       "      <td>NaN</td>\n",
       "      <td>NaN</td>\n",
       "      <td>NaN</td>\n",
       "    </tr>\n",
       "    <tr>\n",
       "      <th>2</th>\n",
       "      <td>7218.0</td>\n",
       "      <td>5963.0</td>\n",
       "      <td>648.0</td>\n",
       "      <td>255.0</td>\n",
       "      <td>158.0</td>\n",
       "      <td>133.0</td>\n",
       "      <td>46.0</td>\n",
       "      <td>14.0</td>\n",
       "      <td>NaN</td>\n",
       "    </tr>\n",
       "    <tr>\n",
       "      <th>3</th>\n",
       "      <td>4039.0</td>\n",
       "      <td>3533.0</td>\n",
       "      <td>3539.0</td>\n",
       "      <td>522.0</td>\n",
       "      <td>261.0</td>\n",
       "      <td>149.0</td>\n",
       "      <td>55.0</td>\n",
       "      <td>17.0</td>\n",
       "      <td>NaN</td>\n",
       "    </tr>\n",
       "    <tr>\n",
       "      <th>4</th>\n",
       "      <td>2702.0</td>\n",
       "      <td>2412.0</td>\n",
       "      <td>2453.0</td>\n",
       "      <td>2480.0</td>\n",
       "      <td>447.0</td>\n",
       "      <td>199.0</td>\n",
       "      <td>92.0</td>\n",
       "      <td>19.0</td>\n",
       "      <td>NaN</td>\n",
       "    </tr>\n",
       "    <tr>\n",
       "      <th>5</th>\n",
       "      <td>2165.0</td>\n",
       "      <td>2021.0</td>\n",
       "      <td>2009.0</td>\n",
       "      <td>2043.0</td>\n",
       "      <td>2058.0</td>\n",
       "      <td>340.0</td>\n",
       "      <td>145.0</td>\n",
       "      <td>43.0</td>\n",
       "      <td>1.0</td>\n",
       "    </tr>\n",
       "    <tr>\n",
       "      <th>6</th>\n",
       "      <td>1757.0</td>\n",
       "      <td>1696.0</td>\n",
       "      <td>1710.0</td>\n",
       "      <td>1695.0</td>\n",
       "      <td>1705.0</td>\n",
       "      <td>1721.0</td>\n",
       "      <td>215.0</td>\n",
       "      <td>40.0</td>\n",
       "      <td>1.0</td>\n",
       "    </tr>\n",
       "    <tr>\n",
       "      <th>7</th>\n",
       "      <td>1484.0</td>\n",
       "      <td>1465.0</td>\n",
       "      <td>1464.0</td>\n",
       "      <td>1472.0</td>\n",
       "      <td>1465.0</td>\n",
       "      <td>1470.0</td>\n",
       "      <td>1468.0</td>\n",
       "      <td>97.0</td>\n",
       "      <td>NaN</td>\n",
       "    </tr>\n",
       "    <tr>\n",
       "      <th>8</th>\n",
       "      <td>208.0</td>\n",
       "      <td>208.0</td>\n",
       "      <td>207.0</td>\n",
       "      <td>208.0</td>\n",
       "      <td>208.0</td>\n",
       "      <td>207.0</td>\n",
       "      <td>208.0</td>\n",
       "      <td>208.0</td>\n",
       "      <td>2.0</td>\n",
       "    </tr>\n",
       "  </tbody>\n",
       "</table>\n",
       "</div>"
      ],
      "text/plain": [
       "weeks_sinse_trial        0       1       2       3       4       5       6  \\\n",
       "cohort                                                                       \n",
       "1                  43336.0     NaN     NaN     NaN     NaN     NaN     NaN   \n",
       "2                   7218.0  5963.0   648.0   255.0   158.0   133.0    46.0   \n",
       "3                   4039.0  3533.0  3539.0   522.0   261.0   149.0    55.0   \n",
       "4                   2702.0  2412.0  2453.0  2480.0   447.0   199.0    92.0   \n",
       "5                   2165.0  2021.0  2009.0  2043.0  2058.0   340.0   145.0   \n",
       "6                   1757.0  1696.0  1710.0  1695.0  1705.0  1721.0   215.0   \n",
       "7                   1484.0  1465.0  1464.0  1472.0  1465.0  1470.0  1468.0   \n",
       "8                    208.0   208.0   207.0   208.0   208.0   207.0   208.0   \n",
       "\n",
       "weeks_sinse_trial      7    8  \n",
       "cohort                         \n",
       "1                    NaN  NaN  \n",
       "2                   14.0  NaN  \n",
       "3                   17.0  NaN  \n",
       "4                   19.0  NaN  \n",
       "5                   43.0  1.0  \n",
       "6                   40.0  1.0  \n",
       "7                   97.0  NaN  \n",
       "8                  208.0  2.0  "
      ]
     },
     "execution_count": 22,
     "metadata": {},
     "output_type": "execute_result"
    }
   ],
   "source": [
    "unique_users_count_pivot"
   ]
  },
  {
   "cell_type": "code",
   "execution_count": 23,
   "id": "2319206d",
   "metadata": {},
   "outputs": [],
   "source": [
    "# Добавляю столец с кол-вом юзеров\n",
    "\n",
    "cumsum_revenue_n_users_qty = pd.concat([cumsum_revenue_pivot_nona, unique_users_count_pivot.iloc[:,0].rename('user_qty')], axis=1)"
   ]
  },
  {
   "cell_type": "code",
   "execution_count": 24,
   "id": "706c7d89",
   "metadata": {},
   "outputs": [],
   "source": [
    "# Считаю LTV юзера по когортам\n",
    "\n",
    "cumsum_revenue_n_users_qty['Avg_cohort_user_LTV'] = cumsum_revenue_n_users_qty[('revenue', 8)] / cumsum_revenue_n_users_qty['user_qty']"
   ]
  },
  {
   "cell_type": "code",
   "execution_count": 25,
   "id": "cb1f856f",
   "metadata": {},
   "outputs": [
    {
     "data": {
      "text/html": [
       "<div>\n",
       "<style scoped>\n",
       "    .dataframe tbody tr th:only-of-type {\n",
       "        vertical-align: middle;\n",
       "    }\n",
       "\n",
       "    .dataframe tbody tr th {\n",
       "        vertical-align: top;\n",
       "    }\n",
       "\n",
       "    .dataframe thead th {\n",
       "        text-align: right;\n",
       "    }\n",
       "</style>\n",
       "<table border=\"1\" class=\"dataframe\">\n",
       "  <thead>\n",
       "    <tr style=\"text-align: right;\">\n",
       "      <th></th>\n",
       "      <th>(revenue, 0)</th>\n",
       "      <th>(revenue, 1)</th>\n",
       "      <th>(revenue, 2)</th>\n",
       "      <th>(revenue, 3)</th>\n",
       "      <th>(revenue, 4)</th>\n",
       "      <th>(revenue, 5)</th>\n",
       "      <th>(revenue, 6)</th>\n",
       "      <th>(revenue, 7)</th>\n",
       "      <th>(revenue, 8)</th>\n",
       "      <th>user_qty</th>\n",
       "      <th>Avg_cohort_user_LTV</th>\n",
       "    </tr>\n",
       "    <tr>\n",
       "      <th>cohort</th>\n",
       "      <th></th>\n",
       "      <th></th>\n",
       "      <th></th>\n",
       "      <th></th>\n",
       "      <th></th>\n",
       "      <th></th>\n",
       "      <th></th>\n",
       "      <th></th>\n",
       "      <th></th>\n",
       "      <th></th>\n",
       "      <th></th>\n",
       "    </tr>\n",
       "  </thead>\n",
       "  <tbody>\n",
       "    <tr>\n",
       "      <th>1</th>\n",
       "      <td>0.00</td>\n",
       "      <td>0.00</td>\n",
       "      <td>0.00</td>\n",
       "      <td>0.00</td>\n",
       "      <td>0.00</td>\n",
       "      <td>0.00</td>\n",
       "      <td>0.00</td>\n",
       "      <td>0.00</td>\n",
       "      <td>0.00</td>\n",
       "      <td>43336.0</td>\n",
       "      <td>0.000000</td>\n",
       "    </tr>\n",
       "    <tr>\n",
       "      <th>2</th>\n",
       "      <td>9.98</td>\n",
       "      <td>29645.59</td>\n",
       "      <td>32869.13</td>\n",
       "      <td>34136.59</td>\n",
       "      <td>34925.01</td>\n",
       "      <td>35588.68</td>\n",
       "      <td>35818.22</td>\n",
       "      <td>35883.09</td>\n",
       "      <td>35883.09</td>\n",
       "      <td>7218.0</td>\n",
       "      <td>4.971334</td>\n",
       "    </tr>\n",
       "    <tr>\n",
       "      <th>3</th>\n",
       "      <td>0.00</td>\n",
       "      <td>17629.67</td>\n",
       "      <td>35289.28</td>\n",
       "      <td>37894.06</td>\n",
       "      <td>39196.45</td>\n",
       "      <td>39939.96</td>\n",
       "      <td>40214.41</td>\n",
       "      <td>40299.24</td>\n",
       "      <td>40299.24</td>\n",
       "      <td>4039.0</td>\n",
       "      <td>9.977529</td>\n",
       "    </tr>\n",
       "    <tr>\n",
       "      <th>4</th>\n",
       "      <td>9.98</td>\n",
       "      <td>12045.86</td>\n",
       "      <td>24286.33</td>\n",
       "      <td>36656.54</td>\n",
       "      <td>38887.07</td>\n",
       "      <td>39885.07</td>\n",
       "      <td>40344.15</td>\n",
       "      <td>40438.96</td>\n",
       "      <td>40438.96</td>\n",
       "      <td>2702.0</td>\n",
       "      <td>14.966306</td>\n",
       "    </tr>\n",
       "    <tr>\n",
       "      <th>5</th>\n",
       "      <td>4.99</td>\n",
       "      <td>10089.78</td>\n",
       "      <td>20114.69</td>\n",
       "      <td>30309.26</td>\n",
       "      <td>40578.68</td>\n",
       "      <td>42270.29</td>\n",
       "      <td>42993.84</td>\n",
       "      <td>43208.41</td>\n",
       "      <td>43213.40</td>\n",
       "      <td>2165.0</td>\n",
       "      <td>19.960000</td>\n",
       "    </tr>\n",
       "    <tr>\n",
       "      <th>6</th>\n",
       "      <td>4.99</td>\n",
       "      <td>8468.03</td>\n",
       "      <td>17000.93</td>\n",
       "      <td>25458.98</td>\n",
       "      <td>33966.93</td>\n",
       "      <td>42554.72</td>\n",
       "      <td>43627.57</td>\n",
       "      <td>43827.17</td>\n",
       "      <td>43832.16</td>\n",
       "      <td>1757.0</td>\n",
       "      <td>24.947160</td>\n",
       "    </tr>\n",
       "    <tr>\n",
       "      <th>7</th>\n",
       "      <td>9.98</td>\n",
       "      <td>7320.33</td>\n",
       "      <td>14625.69</td>\n",
       "      <td>21970.97</td>\n",
       "      <td>29276.33</td>\n",
       "      <td>36611.63</td>\n",
       "      <td>43936.95</td>\n",
       "      <td>44415.99</td>\n",
       "      <td>44415.99</td>\n",
       "      <td>1484.0</td>\n",
       "      <td>29.929912</td>\n",
       "    </tr>\n",
       "    <tr>\n",
       "      <th>8</th>\n",
       "      <td>4.99</td>\n",
       "      <td>1042.91</td>\n",
       "      <td>2075.84</td>\n",
       "      <td>3113.76</td>\n",
       "      <td>4151.68</td>\n",
       "      <td>5179.62</td>\n",
       "      <td>6217.54</td>\n",
       "      <td>7255.46</td>\n",
       "      <td>7265.44</td>\n",
       "      <td>208.0</td>\n",
       "      <td>34.930000</td>\n",
       "    </tr>\n",
       "  </tbody>\n",
       "</table>\n",
       "</div>"
      ],
      "text/plain": [
       "        (revenue, 0)  (revenue, 1)  (revenue, 2)  (revenue, 3)  (revenue, 4)  \\\n",
       "cohort                                                                         \n",
       "1               0.00          0.00          0.00          0.00          0.00   \n",
       "2               9.98      29645.59      32869.13      34136.59      34925.01   \n",
       "3               0.00      17629.67      35289.28      37894.06      39196.45   \n",
       "4               9.98      12045.86      24286.33      36656.54      38887.07   \n",
       "5               4.99      10089.78      20114.69      30309.26      40578.68   \n",
       "6               4.99       8468.03      17000.93      25458.98      33966.93   \n",
       "7               9.98       7320.33      14625.69      21970.97      29276.33   \n",
       "8               4.99       1042.91       2075.84       3113.76       4151.68   \n",
       "\n",
       "        (revenue, 5)  (revenue, 6)  (revenue, 7)  (revenue, 8)  user_qty  \\\n",
       "cohort                                                                     \n",
       "1               0.00          0.00          0.00          0.00   43336.0   \n",
       "2           35588.68      35818.22      35883.09      35883.09    7218.0   \n",
       "3           39939.96      40214.41      40299.24      40299.24    4039.0   \n",
       "4           39885.07      40344.15      40438.96      40438.96    2702.0   \n",
       "5           42270.29      42993.84      43208.41      43213.40    2165.0   \n",
       "6           42554.72      43627.57      43827.17      43832.16    1757.0   \n",
       "7           36611.63      43936.95      44415.99      44415.99    1484.0   \n",
       "8            5179.62       6217.54       7255.46       7265.44     208.0   \n",
       "\n",
       "        Avg_cohort_user_LTV  \n",
       "cohort                       \n",
       "1                  0.000000  \n",
       "2                  4.971334  \n",
       "3                  9.977529  \n",
       "4                 14.966306  \n",
       "5                 19.960000  \n",
       "6                 24.947160  \n",
       "7                 29.929912  \n",
       "8                 34.930000  "
      ]
     },
     "execution_count": 25,
     "metadata": {},
     "output_type": "execute_result"
    }
   ],
   "source": [
    "cumsum_revenue_n_users_qty"
   ]
  },
  {
   "cell_type": "code",
   "execution_count": 26,
   "id": "5066f314",
   "metadata": {},
   "outputs": [],
   "source": [
    "# Считаю LTV как среднее взвешанное по когортам"
   ]
  },
  {
   "cell_type": "code",
   "execution_count": 27,
   "id": "1635a256",
   "metadata": {},
   "outputs": [],
   "source": [
    "LTV_current = np.average(cumsum_revenue_n_users_qty['Avg_cohort_user_LTV'], weights=cumsum_revenue_n_users_qty['user_qty'])"
   ]
  },
  {
   "cell_type": "code",
   "execution_count": 28,
   "id": "dc787ee9",
   "metadata": {},
   "outputs": [
    {
     "name": "stdout",
     "output_type": "stream",
     "text": [
      "Текущий LTV юзера, $:  4.059\n"
     ]
    }
   ],
   "source": [
    "# Так как нет вводных данных про Gross Margin и discount rate, считаю LTV через revenue\n",
    "\n",
    "print('Текущий LTV юзера, $: ', round(LTV_current,3))"
   ]
  },
  {
   "cell_type": "markdown",
   "id": "68185889",
   "metadata": {},
   "source": [
    "## 2. Спрогнозировать, каким будет LTV на полгода"
   ]
  },
  {
   "cell_type": "code",
   "execution_count": 29,
   "id": "846caaec",
   "metadata": {},
   "outputs": [],
   "source": [
    "# Прогнозировать LTV буду через прогнозирование retention curve в форме y = a * x^b с помощью регрессии\n",
    "# Далее посчитаю LTV как ARPWAU * Retention накопительным итогом\n",
    "# Полгода - это 52/2 = 26 weeks"
   ]
  },
  {
   "cell_type": "code",
   "execution_count": 30,
   "id": "848ca794",
   "metadata": {},
   "outputs": [],
   "source": [
    "# Цена 1 подписки\n",
    "ARPWAU = 4.99"
   ]
  },
  {
   "cell_type": "code",
   "execution_count": 31,
   "id": "4f15db09",
   "metadata": {},
   "outputs": [
    {
     "data": {
      "text/html": [
       "<div>\n",
       "<style scoped>\n",
       "    .dataframe tbody tr th:only-of-type {\n",
       "        vertical-align: middle;\n",
       "    }\n",
       "\n",
       "    .dataframe tbody tr th {\n",
       "        vertical-align: top;\n",
       "    }\n",
       "\n",
       "    .dataframe thead th {\n",
       "        text-align: right;\n",
       "    }\n",
       "</style>\n",
       "<table border=\"1\" class=\"dataframe\">\n",
       "  <thead>\n",
       "    <tr style=\"text-align: right;\">\n",
       "      <th>weeks_sinse_trial</th>\n",
       "      <th>0</th>\n",
       "      <th>1</th>\n",
       "      <th>2</th>\n",
       "      <th>3</th>\n",
       "      <th>4</th>\n",
       "      <th>5</th>\n",
       "      <th>6</th>\n",
       "      <th>7</th>\n",
       "      <th>8</th>\n",
       "    </tr>\n",
       "    <tr>\n",
       "      <th>cohort</th>\n",
       "      <th></th>\n",
       "      <th></th>\n",
       "      <th></th>\n",
       "      <th></th>\n",
       "      <th></th>\n",
       "      <th></th>\n",
       "      <th></th>\n",
       "      <th></th>\n",
       "      <th></th>\n",
       "    </tr>\n",
       "  </thead>\n",
       "  <tbody>\n",
       "    <tr>\n",
       "      <th>1</th>\n",
       "      <td>43336.0</td>\n",
       "      <td>NaN</td>\n",
       "      <td>NaN</td>\n",
       "      <td>NaN</td>\n",
       "      <td>NaN</td>\n",
       "      <td>NaN</td>\n",
       "      <td>NaN</td>\n",
       "      <td>NaN</td>\n",
       "      <td>NaN</td>\n",
       "    </tr>\n",
       "    <tr>\n",
       "      <th>2</th>\n",
       "      <td>7218.0</td>\n",
       "      <td>5963.0</td>\n",
       "      <td>648.0</td>\n",
       "      <td>255.0</td>\n",
       "      <td>158.0</td>\n",
       "      <td>133.0</td>\n",
       "      <td>46.0</td>\n",
       "      <td>14.0</td>\n",
       "      <td>NaN</td>\n",
       "    </tr>\n",
       "    <tr>\n",
       "      <th>3</th>\n",
       "      <td>4039.0</td>\n",
       "      <td>3533.0</td>\n",
       "      <td>3539.0</td>\n",
       "      <td>522.0</td>\n",
       "      <td>261.0</td>\n",
       "      <td>149.0</td>\n",
       "      <td>55.0</td>\n",
       "      <td>17.0</td>\n",
       "      <td>NaN</td>\n",
       "    </tr>\n",
       "    <tr>\n",
       "      <th>4</th>\n",
       "      <td>2702.0</td>\n",
       "      <td>2412.0</td>\n",
       "      <td>2453.0</td>\n",
       "      <td>2480.0</td>\n",
       "      <td>447.0</td>\n",
       "      <td>199.0</td>\n",
       "      <td>92.0</td>\n",
       "      <td>19.0</td>\n",
       "      <td>NaN</td>\n",
       "    </tr>\n",
       "    <tr>\n",
       "      <th>5</th>\n",
       "      <td>2165.0</td>\n",
       "      <td>2021.0</td>\n",
       "      <td>2009.0</td>\n",
       "      <td>2043.0</td>\n",
       "      <td>2058.0</td>\n",
       "      <td>340.0</td>\n",
       "      <td>145.0</td>\n",
       "      <td>43.0</td>\n",
       "      <td>1.0</td>\n",
       "    </tr>\n",
       "    <tr>\n",
       "      <th>6</th>\n",
       "      <td>1757.0</td>\n",
       "      <td>1696.0</td>\n",
       "      <td>1710.0</td>\n",
       "      <td>1695.0</td>\n",
       "      <td>1705.0</td>\n",
       "      <td>1721.0</td>\n",
       "      <td>215.0</td>\n",
       "      <td>40.0</td>\n",
       "      <td>1.0</td>\n",
       "    </tr>\n",
       "    <tr>\n",
       "      <th>7</th>\n",
       "      <td>1484.0</td>\n",
       "      <td>1465.0</td>\n",
       "      <td>1464.0</td>\n",
       "      <td>1472.0</td>\n",
       "      <td>1465.0</td>\n",
       "      <td>1470.0</td>\n",
       "      <td>1468.0</td>\n",
       "      <td>97.0</td>\n",
       "      <td>NaN</td>\n",
       "    </tr>\n",
       "    <tr>\n",
       "      <th>8</th>\n",
       "      <td>208.0</td>\n",
       "      <td>208.0</td>\n",
       "      <td>207.0</td>\n",
       "      <td>208.0</td>\n",
       "      <td>208.0</td>\n",
       "      <td>207.0</td>\n",
       "      <td>208.0</td>\n",
       "      <td>208.0</td>\n",
       "      <td>2.0</td>\n",
       "    </tr>\n",
       "  </tbody>\n",
       "</table>\n",
       "</div>"
      ],
      "text/plain": [
       "weeks_sinse_trial        0       1       2       3       4       5       6  \\\n",
       "cohort                                                                       \n",
       "1                  43336.0     NaN     NaN     NaN     NaN     NaN     NaN   \n",
       "2                   7218.0  5963.0   648.0   255.0   158.0   133.0    46.0   \n",
       "3                   4039.0  3533.0  3539.0   522.0   261.0   149.0    55.0   \n",
       "4                   2702.0  2412.0  2453.0  2480.0   447.0   199.0    92.0   \n",
       "5                   2165.0  2021.0  2009.0  2043.0  2058.0   340.0   145.0   \n",
       "6                   1757.0  1696.0  1710.0  1695.0  1705.0  1721.0   215.0   \n",
       "7                   1484.0  1465.0  1464.0  1472.0  1465.0  1470.0  1468.0   \n",
       "8                    208.0   208.0   207.0   208.0   208.0   207.0   208.0   \n",
       "\n",
       "weeks_sinse_trial      7    8  \n",
       "cohort                         \n",
       "1                    NaN  NaN  \n",
       "2                   14.0  NaN  \n",
       "3                   17.0  NaN  \n",
       "4                   19.0  NaN  \n",
       "5                   43.0  1.0  \n",
       "6                   40.0  1.0  \n",
       "7                   97.0  NaN  \n",
       "8                  208.0  2.0  "
      ]
     },
     "execution_count": 31,
     "metadata": {},
     "output_type": "execute_result"
    }
   ],
   "source": [
    "unique_users_count_pivot"
   ]
  },
  {
   "cell_type": "code",
   "execution_count": 32,
   "id": "b24d0502",
   "metadata": {},
   "outputs": [],
   "source": [
    "# Видим,что в восьмую неделю относительно старта в когортах \n",
    "# очень мало юзеров, это связано с тем, что датасет собран до определённой даты - 2020-02-20\n",
    "# Поэтому прогнозировать retention curve буду на основе 0-7 недель"
   ]
  },
  {
   "cell_type": "code",
   "execution_count": 33,
   "id": "6fa99a8e",
   "metadata": {},
   "outputs": [
    {
     "data": {
      "text/plain": [
       "2020-01-31    378\n",
       "2020-01-30    360\n",
       "2020-02-01    345\n",
       "2020-02-13    340\n",
       "2020-02-02    329\n",
       "2020-02-12    312\n",
       "2020-02-14    293\n",
       "2020-02-07    280\n",
       "2020-02-05    276\n",
       "2020-02-03    273\n",
       "2020-02-10    270\n",
       "2020-02-08    269\n",
       "2020-02-11    263\n",
       "2020-02-04    263\n",
       "2020-02-06    263\n",
       "2020-01-29    245\n",
       "2020-02-19    236\n",
       "2020-02-09    228\n",
       "2020-02-15    218\n",
       "2020-02-18    216\n",
       "2020-02-17    213\n",
       "2020-02-16    209\n",
       "2020-02-20     76\n",
       "2020-01-28     41\n",
       "2020-01-27     34\n",
       "2020-01-26     24\n",
       "2020-01-25     22\n",
       "2020-01-24     14\n",
       "2020-01-23     12\n",
       "Name: purchase_date, dtype: int64"
      ]
     },
     "execution_count": 33,
     "metadata": {},
     "output_type": "execute_result"
    }
   ],
   "source": [
    "df2[df2.weeks_sinse_trial==4].purchase_date.value_counts()"
   ]
  },
  {
   "cell_type": "code",
   "execution_count": 34,
   "id": "dde6dcb0",
   "metadata": {},
   "outputs": [],
   "source": [
    "unique_users_count_pivot_7weeks = unique_users_count_pivot.drop([8], axis=1).fillna(0)"
   ]
  },
  {
   "cell_type": "code",
   "execution_count": 35,
   "id": "0378bf2d",
   "metadata": {},
   "outputs": [
    {
     "data": {
      "text/html": [
       "<div>\n",
       "<style scoped>\n",
       "    .dataframe tbody tr th:only-of-type {\n",
       "        vertical-align: middle;\n",
       "    }\n",
       "\n",
       "    .dataframe tbody tr th {\n",
       "        vertical-align: top;\n",
       "    }\n",
       "\n",
       "    .dataframe thead th {\n",
       "        text-align: right;\n",
       "    }\n",
       "</style>\n",
       "<table border=\"1\" class=\"dataframe\">\n",
       "  <thead>\n",
       "    <tr style=\"text-align: right;\">\n",
       "      <th>weeks_sinse_trial</th>\n",
       "      <th>0</th>\n",
       "      <th>1</th>\n",
       "      <th>2</th>\n",
       "      <th>3</th>\n",
       "      <th>4</th>\n",
       "      <th>5</th>\n",
       "      <th>6</th>\n",
       "      <th>7</th>\n",
       "    </tr>\n",
       "    <tr>\n",
       "      <th>cohort</th>\n",
       "      <th></th>\n",
       "      <th></th>\n",
       "      <th></th>\n",
       "      <th></th>\n",
       "      <th></th>\n",
       "      <th></th>\n",
       "      <th></th>\n",
       "      <th></th>\n",
       "    </tr>\n",
       "  </thead>\n",
       "  <tbody>\n",
       "    <tr>\n",
       "      <th>1</th>\n",
       "      <td>43336.0</td>\n",
       "      <td>0.0</td>\n",
       "      <td>0.0</td>\n",
       "      <td>0.0</td>\n",
       "      <td>0.0</td>\n",
       "      <td>0.0</td>\n",
       "      <td>0.0</td>\n",
       "      <td>0.0</td>\n",
       "    </tr>\n",
       "    <tr>\n",
       "      <th>2</th>\n",
       "      <td>7218.0</td>\n",
       "      <td>5963.0</td>\n",
       "      <td>648.0</td>\n",
       "      <td>255.0</td>\n",
       "      <td>158.0</td>\n",
       "      <td>133.0</td>\n",
       "      <td>46.0</td>\n",
       "      <td>14.0</td>\n",
       "    </tr>\n",
       "    <tr>\n",
       "      <th>3</th>\n",
       "      <td>4039.0</td>\n",
       "      <td>3533.0</td>\n",
       "      <td>3539.0</td>\n",
       "      <td>522.0</td>\n",
       "      <td>261.0</td>\n",
       "      <td>149.0</td>\n",
       "      <td>55.0</td>\n",
       "      <td>17.0</td>\n",
       "    </tr>\n",
       "    <tr>\n",
       "      <th>4</th>\n",
       "      <td>2702.0</td>\n",
       "      <td>2412.0</td>\n",
       "      <td>2453.0</td>\n",
       "      <td>2480.0</td>\n",
       "      <td>447.0</td>\n",
       "      <td>199.0</td>\n",
       "      <td>92.0</td>\n",
       "      <td>19.0</td>\n",
       "    </tr>\n",
       "    <tr>\n",
       "      <th>5</th>\n",
       "      <td>2165.0</td>\n",
       "      <td>2021.0</td>\n",
       "      <td>2009.0</td>\n",
       "      <td>2043.0</td>\n",
       "      <td>2058.0</td>\n",
       "      <td>340.0</td>\n",
       "      <td>145.0</td>\n",
       "      <td>43.0</td>\n",
       "    </tr>\n",
       "    <tr>\n",
       "      <th>6</th>\n",
       "      <td>1757.0</td>\n",
       "      <td>1696.0</td>\n",
       "      <td>1710.0</td>\n",
       "      <td>1695.0</td>\n",
       "      <td>1705.0</td>\n",
       "      <td>1721.0</td>\n",
       "      <td>215.0</td>\n",
       "      <td>40.0</td>\n",
       "    </tr>\n",
       "    <tr>\n",
       "      <th>7</th>\n",
       "      <td>1484.0</td>\n",
       "      <td>1465.0</td>\n",
       "      <td>1464.0</td>\n",
       "      <td>1472.0</td>\n",
       "      <td>1465.0</td>\n",
       "      <td>1470.0</td>\n",
       "      <td>1468.0</td>\n",
       "      <td>97.0</td>\n",
       "    </tr>\n",
       "    <tr>\n",
       "      <th>8</th>\n",
       "      <td>208.0</td>\n",
       "      <td>208.0</td>\n",
       "      <td>207.0</td>\n",
       "      <td>208.0</td>\n",
       "      <td>208.0</td>\n",
       "      <td>207.0</td>\n",
       "      <td>208.0</td>\n",
       "      <td>208.0</td>\n",
       "    </tr>\n",
       "  </tbody>\n",
       "</table>\n",
       "</div>"
      ],
      "text/plain": [
       "weeks_sinse_trial        0       1       2       3       4       5       6  \\\n",
       "cohort                                                                       \n",
       "1                  43336.0     0.0     0.0     0.0     0.0     0.0     0.0   \n",
       "2                   7218.0  5963.0   648.0   255.0   158.0   133.0    46.0   \n",
       "3                   4039.0  3533.0  3539.0   522.0   261.0   149.0    55.0   \n",
       "4                   2702.0  2412.0  2453.0  2480.0   447.0   199.0    92.0   \n",
       "5                   2165.0  2021.0  2009.0  2043.0  2058.0   340.0   145.0   \n",
       "6                   1757.0  1696.0  1710.0  1695.0  1705.0  1721.0   215.0   \n",
       "7                   1484.0  1465.0  1464.0  1472.0  1465.0  1470.0  1468.0   \n",
       "8                    208.0   208.0   207.0   208.0   208.0   207.0   208.0   \n",
       "\n",
       "weeks_sinse_trial      7  \n",
       "cohort                    \n",
       "1                    0.0  \n",
       "2                   14.0  \n",
       "3                   17.0  \n",
       "4                   19.0  \n",
       "5                   43.0  \n",
       "6                   40.0  \n",
       "7                   97.0  \n",
       "8                  208.0  "
      ]
     },
     "execution_count": 35,
     "metadata": {},
     "output_type": "execute_result"
    }
   ],
   "source": [
    "unique_users_count_pivot_7weeks"
   ]
  },
  {
   "cell_type": "code",
   "execution_count": 36,
   "id": "3da22b9e",
   "metadata": {},
   "outputs": [
    {
     "data": {
      "text/plain": [
       "weeks_sinse_trial\n",
       "0    62909.0\n",
       "1    17298.0\n",
       "2    12030.0\n",
       "3     8675.0\n",
       "4     6302.0\n",
       "5     4219.0\n",
       "6     2229.0\n",
       "7      438.0\n",
       "dtype: float64"
      ]
     },
     "execution_count": 36,
     "metadata": {},
     "output_type": "execute_result"
    }
   ],
   "source": [
    "unique_users_count_pivot_7weeks.sum(axis=0)"
   ]
  },
  {
   "cell_type": "code",
   "execution_count": 37,
   "id": "b02ba9f0",
   "metadata": {},
   "outputs": [],
   "source": [
    "# Вот тут рассчитываю retention\n",
    "\n",
    "retention_rate_cohort = unique_users_count_pivot_7weeks.divide(unique_users_count_pivot_7weeks.iloc[:,0], axis=0)"
   ]
  },
  {
   "cell_type": "code",
   "execution_count": 38,
   "id": "80f906ac",
   "metadata": {},
   "outputs": [
    {
     "data": {
      "text/html": [
       "<div>\n",
       "<style scoped>\n",
       "    .dataframe tbody tr th:only-of-type {\n",
       "        vertical-align: middle;\n",
       "    }\n",
       "\n",
       "    .dataframe tbody tr th {\n",
       "        vertical-align: top;\n",
       "    }\n",
       "\n",
       "    .dataframe thead th {\n",
       "        text-align: right;\n",
       "    }\n",
       "</style>\n",
       "<table border=\"1\" class=\"dataframe\">\n",
       "  <thead>\n",
       "    <tr style=\"text-align: right;\">\n",
       "      <th>weeks_sinse_trial</th>\n",
       "      <th>0</th>\n",
       "      <th>1</th>\n",
       "      <th>2</th>\n",
       "      <th>3</th>\n",
       "      <th>4</th>\n",
       "      <th>5</th>\n",
       "      <th>6</th>\n",
       "      <th>7</th>\n",
       "    </tr>\n",
       "    <tr>\n",
       "      <th>cohort</th>\n",
       "      <th></th>\n",
       "      <th></th>\n",
       "      <th></th>\n",
       "      <th></th>\n",
       "      <th></th>\n",
       "      <th></th>\n",
       "      <th></th>\n",
       "      <th></th>\n",
       "    </tr>\n",
       "  </thead>\n",
       "  <tbody>\n",
       "    <tr>\n",
       "      <th>1</th>\n",
       "      <td>1.0</td>\n",
       "      <td>0.000000</td>\n",
       "      <td>0.000000</td>\n",
       "      <td>0.000000</td>\n",
       "      <td>0.000000</td>\n",
       "      <td>0.000000</td>\n",
       "      <td>0.000000</td>\n",
       "      <td>0.000000</td>\n",
       "    </tr>\n",
       "    <tr>\n",
       "      <th>2</th>\n",
       "      <td>1.0</td>\n",
       "      <td>0.826129</td>\n",
       "      <td>0.089776</td>\n",
       "      <td>0.035328</td>\n",
       "      <td>0.021890</td>\n",
       "      <td>0.018426</td>\n",
       "      <td>0.006373</td>\n",
       "      <td>0.001940</td>\n",
       "    </tr>\n",
       "    <tr>\n",
       "      <th>3</th>\n",
       "      <td>1.0</td>\n",
       "      <td>0.874721</td>\n",
       "      <td>0.876207</td>\n",
       "      <td>0.129240</td>\n",
       "      <td>0.064620</td>\n",
       "      <td>0.036890</td>\n",
       "      <td>0.013617</td>\n",
       "      <td>0.004209</td>\n",
       "    </tr>\n",
       "    <tr>\n",
       "      <th>4</th>\n",
       "      <td>1.0</td>\n",
       "      <td>0.892672</td>\n",
       "      <td>0.907846</td>\n",
       "      <td>0.917839</td>\n",
       "      <td>0.165433</td>\n",
       "      <td>0.073649</td>\n",
       "      <td>0.034049</td>\n",
       "      <td>0.007032</td>\n",
       "    </tr>\n",
       "    <tr>\n",
       "      <th>5</th>\n",
       "      <td>1.0</td>\n",
       "      <td>0.933487</td>\n",
       "      <td>0.927945</td>\n",
       "      <td>0.943649</td>\n",
       "      <td>0.950577</td>\n",
       "      <td>0.157044</td>\n",
       "      <td>0.066975</td>\n",
       "      <td>0.019861</td>\n",
       "    </tr>\n",
       "    <tr>\n",
       "      <th>6</th>\n",
       "      <td>1.0</td>\n",
       "      <td>0.965282</td>\n",
       "      <td>0.973250</td>\n",
       "      <td>0.964713</td>\n",
       "      <td>0.970404</td>\n",
       "      <td>0.979511</td>\n",
       "      <td>0.122368</td>\n",
       "      <td>0.022766</td>\n",
       "    </tr>\n",
       "    <tr>\n",
       "      <th>7</th>\n",
       "      <td>1.0</td>\n",
       "      <td>0.987197</td>\n",
       "      <td>0.986523</td>\n",
       "      <td>0.991914</td>\n",
       "      <td>0.987197</td>\n",
       "      <td>0.990566</td>\n",
       "      <td>0.989218</td>\n",
       "      <td>0.065364</td>\n",
       "    </tr>\n",
       "    <tr>\n",
       "      <th>8</th>\n",
       "      <td>1.0</td>\n",
       "      <td>1.000000</td>\n",
       "      <td>0.995192</td>\n",
       "      <td>1.000000</td>\n",
       "      <td>1.000000</td>\n",
       "      <td>0.995192</td>\n",
       "      <td>1.000000</td>\n",
       "      <td>1.000000</td>\n",
       "    </tr>\n",
       "  </tbody>\n",
       "</table>\n",
       "</div>"
      ],
      "text/plain": [
       "weeks_sinse_trial    0         1         2         3         4         5  \\\n",
       "cohort                                                                     \n",
       "1                  1.0  0.000000  0.000000  0.000000  0.000000  0.000000   \n",
       "2                  1.0  0.826129  0.089776  0.035328  0.021890  0.018426   \n",
       "3                  1.0  0.874721  0.876207  0.129240  0.064620  0.036890   \n",
       "4                  1.0  0.892672  0.907846  0.917839  0.165433  0.073649   \n",
       "5                  1.0  0.933487  0.927945  0.943649  0.950577  0.157044   \n",
       "6                  1.0  0.965282  0.973250  0.964713  0.970404  0.979511   \n",
       "7                  1.0  0.987197  0.986523  0.991914  0.987197  0.990566   \n",
       "8                  1.0  1.000000  0.995192  1.000000  1.000000  0.995192   \n",
       "\n",
       "weeks_sinse_trial         6         7  \n",
       "cohort                                 \n",
       "1                  0.000000  0.000000  \n",
       "2                  0.006373  0.001940  \n",
       "3                  0.013617  0.004209  \n",
       "4                  0.034049  0.007032  \n",
       "5                  0.066975  0.019861  \n",
       "6                  0.122368  0.022766  \n",
       "7                  0.989218  0.065364  \n",
       "8                  1.000000  1.000000  "
      ]
     },
     "execution_count": 38,
     "metadata": {},
     "output_type": "execute_result"
    }
   ],
   "source": [
    "retention_rate_cohort"
   ]
  },
  {
   "cell_type": "code",
   "execution_count": 39,
   "id": "77372ad5",
   "metadata": {},
   "outputs": [
    {
     "data": {
      "text/plain": [
       "array([1.        , 0.27496861, 0.1912286 , 0.1378976 , 0.10017645,\n",
       "       0.06706513, 0.03543213, 0.00696244])"
      ]
     },
     "execution_count": 39,
     "metadata": {},
     "output_type": "execute_result"
    }
   ],
   "source": [
    "# Средний retention rate по когортам\n",
    "\n",
    "np.average(retention_rate_cohort, weights=unique_users_count_pivot_7weeks.iloc[:,0], axis=0)"
   ]
  },
  {
   "cell_type": "code",
   "execution_count": 40,
   "id": "93e22633",
   "metadata": {},
   "outputs": [],
   "source": [
    "# Прогнозирую retention curve c помощью регрессии в виде y = a * x^b"
   ]
  },
  {
   "cell_type": "code",
   "execution_count": 41,
   "id": "da5c2acc",
   "metadata": {},
   "outputs": [],
   "source": [
    "# В x добавляю +1, чтобы логарифм не ломался\n",
    "\n",
    "y = np.average(retention_rate_cohort, weights=unique_users_count_pivot_7weeks.iloc[:,0], axis=0)\n",
    "x = np.array([1,2,3,4,5,6,7,8])\n",
    "\n",
    "x2 = np.arange(1,28)"
   ]
  },
  {
   "cell_type": "code",
   "execution_count": 42,
   "id": "432f3148",
   "metadata": {},
   "outputs": [
    {
     "data": {
      "text/plain": [
       "array([ 1,  2,  3,  4,  5,  6,  7,  8,  9, 10, 11, 12, 13, 14, 15, 16, 17,\n",
       "       18, 19, 20, 21, 22, 23, 24, 25, 26, 27])"
      ]
     },
     "execution_count": 42,
     "metadata": {},
     "output_type": "execute_result"
    }
   ],
   "source": [
    "x2"
   ]
  },
  {
   "cell_type": "code",
   "execution_count": 43,
   "id": "8635524d",
   "metadata": {},
   "outputs": [],
   "source": [
    "def func(x, a, b):\n",
    "    return a * x ** (b)"
   ]
  },
  {
   "cell_type": "code",
   "execution_count": 44,
   "id": "971df857",
   "metadata": {},
   "outputs": [],
   "source": [
    "popt, pcov = curve_fit(func, x, y)"
   ]
  },
  {
   "cell_type": "code",
   "execution_count": 45,
   "id": "4683ccfd",
   "metadata": {},
   "outputs": [
    {
     "data": {
      "image/png": "[encoded data removed]",
      "text/plain": [
       "<Figure size 432x288 with 1 Axes>"
      ]
     },
     "metadata": {
      "needs_background": "light"
     },
     "output_type": "display_data"
    }
   ],
   "source": [
    "plt.figure()\n",
    "plt.plot(x, y, 'ko', label=\"Original Data\")\n",
    "plt.plot(x2, func(x2, *popt), 'r-', label=\"Fitted Curve\")\n",
    "plt.legend()\n",
    "plt.show()"
   ]
  },
  {
   "cell_type": "code",
   "execution_count": 46,
   "id": "4e50742e",
   "metadata": {},
   "outputs": [],
   "source": [
    "# Retention ratio на 6 месяцев вперёд понедельно\n",
    "retention_ratio_6months = func(x2, *popt)"
   ]
  },
  {
   "cell_type": "code",
   "execution_count": 47,
   "id": "e6663b29",
   "metadata": {},
   "outputs": [],
   "source": [
    "LTV_weekly = retention_ratio_6months * ARPWAU"
   ]
  },
  {
   "cell_type": "code",
   "execution_count": 48,
   "id": "36418961",
   "metadata": {},
   "outputs": [],
   "source": [
    "# 0 неделя - триал, поэтому зануляю выручку \n",
    "LTV_weekly[0] = 0"
   ]
  },
  {
   "cell_type": "code",
   "execution_count": 49,
   "id": "e4c25974",
   "metadata": {},
   "outputs": [],
   "source": [
    "LTV_forecast = LTV_weekly.cumsum()"
   ]
  },
  {
   "cell_type": "code",
   "execution_count": 50,
   "id": "6f8e1740",
   "metadata": {},
   "outputs": [
    {
     "name": "stdout",
     "output_type": "stream",
     "text": [
      "Прогноз LTV на полгода, $:  5.102\n"
     ]
    }
   ],
   "source": [
    "# Прогноз, каким будет LTV на полгода\n",
    "print('Прогноз LTV на полгода, $: ', round(LTV_forecast[-1], 3))"
   ]
  },
  {
   "cell_type": "markdown",
   "id": "04532f0f",
   "metadata": {},
   "source": [
    "## 3. Построить график, который будет отображать кривую фактического LTV на фоне кривой прогнозируемого LTV."
   ]
  },
  {
   "cell_type": "code",
   "execution_count": 51,
   "id": "adf71617",
   "metadata": {},
   "outputs": [
    {
     "data": {
      "text/plain": [
       "array([0.        , 1.61425252, 2.45187873, 2.97776937, 3.34428456,\n",
       "       3.61716615, 3.8298097 , 4.00113417, 4.14273083, 4.26213403,\n",
       "       4.36447305, 4.45337232, 4.5314725 , 4.60074744, 4.66270506,\n",
       "       4.71851909, 4.76911814, 4.81524745, 4.85751274, 4.89641187,\n",
       "       4.93235823, 4.96569821, 4.99672443, 5.025686  , 5.05279644,\n",
       "       5.07823989, 5.10217612])"
      ]
     },
     "execution_count": 51,
     "metadata": {},
     "output_type": "execute_result"
    }
   ],
   "source": [
    "# Фактический LTV\n",
    "LTV_fact = cumsum_revenue_pivot_nona.sum(axis=0) / unique_users_count_pivot.iloc[:,0].sum()\n",
    "\n",
    "# Прогнозный LTV\n",
    "LTV_forecast"
   ]
  },
  {
   "cell_type": "code",
   "execution_count": 52,
   "id": "83a368a1",
   "metadata": {},
   "outputs": [
    {
     "data": {
      "text/plain": [
       "         weeks_sinse_trial\n",
       "revenue  0                    0.000714\n",
       "         1                    1.370904\n",
       "         2                    2.324976\n",
       "         3                    3.012926\n",
       "         4                    3.512727\n",
       "         5                    3.847303\n",
       "         6                    4.024109\n",
       "         7                    4.058693\n",
       "         8                    4.059010\n",
       "dtype: float64"
      ]
     },
     "execution_count": 52,
     "metadata": {},
     "output_type": "execute_result"
    }
   ],
   "source": [
    "LTV_fact"
   ]
  },
  {
   "cell_type": "code",
   "execution_count": 53,
   "id": "71f28dce",
   "metadata": {},
   "outputs": [
    {
     "data": {
      "text/plain": [
       "0.1684425499478861"
      ]
     },
     "execution_count": 53,
     "metadata": {},
     "output_type": "execute_result"
    }
   ],
   "source": [
    "LTV_fact[4] - LTV_forecast[4]"
   ]
  },
  {
   "cell_type": "code",
   "execution_count": 54,
   "id": "e31433b2",
   "metadata": {},
   "outputs": [],
   "source": [
    "x_fact = np.arange(0,9)\n",
    "x_forecast = np.arange(0,27)"
   ]
  },
  {
   "cell_type": "code",
   "execution_count": 55,
   "id": "2aa82fe7",
   "metadata": {},
   "outputs": [
    {
     "data": {
      "image/png": "[encoded data removed]",
      "text/plain": [
       "<Figure size 432x288 with 1 Axes>"
      ]
     },
     "metadata": {
      "needs_background": "light"
     },
     "output_type": "display_data"
    }
   ],
   "source": [
    "plt.figure()\n",
    "plt.plot(x_fact, LTV_fact, 'ko', label=\"LTV_fact\")\n",
    "plt.plot(x_forecast, LTV_forecast, 'r-', label=\"LTV_forecast\")\n",
    "plt.legend()\n",
    "plt.show()"
   ]
  },
  {
   "cell_type": "markdown",
   "id": "6a0632c5",
   "metadata": {},
   "source": [
    "## 4. Рассчитать ROMI на 4 недели и на полгода, если стоимость привлечения платящего пользователя 6 USD (ROMI нужно брать операционный, а не бухгалтерский, цель: узнать как окупятся наши инвестиции)."
   ]
  },
  {
   "cell_type": "code",
   "execution_count": 56,
   "id": "8af97553",
   "metadata": {},
   "outputs": [],
   "source": [
    "# ROMI = (LTV - CAC) / CAC * 100"
   ]
  },
  {
   "cell_type": "code",
   "execution_count": 57,
   "id": "a3cea099",
   "metadata": {},
   "outputs": [],
   "source": [
    "CAC = 6"
   ]
  },
  {
   "cell_type": "code",
   "execution_count": 58,
   "id": "95fa511c",
   "metadata": {},
   "outputs": [],
   "source": [
    "ROMI_4_weeks = (LTV_fact[4] - CAC) / CAC * 100"
   ]
  },
  {
   "cell_type": "code",
   "execution_count": 59,
   "id": "e188eb2d",
   "metadata": {},
   "outputs": [],
   "source": [
    "ROMI_26_weeks = (LTV_forecast[26] - CAC) / CAC * 100"
   ]
  },
  {
   "cell_type": "code",
   "execution_count": 60,
   "id": "f9d073cc",
   "metadata": {},
   "outputs": [
    {
     "name": "stdout",
     "output_type": "stream",
     "text": [
      "ROMI на 4 недели, %:  -41.45\n",
      "ROMI на 6 месяцев, %:  -14.96\n"
     ]
    }
   ],
   "source": [
    "print('ROMI на 4 недели, %: ', round(ROMI_4_weeks, 2))\n",
    "print('ROMI на 6 месяцев, %: ', round(ROMI_26_weeks, 2))"
   ]
  },
  {
   "cell_type": "markdown",
   "id": "851f4500",
   "metadata": {},
   "source": [
    "# Ответы"
   ]
  },
  {
   "cell_type": "code",
   "execution_count": 61,
   "id": "d0291a28",
   "metadata": {},
   "outputs": [
    {
     "name": "stdout",
     "output_type": "stream",
     "text": [
      "Текущий LTV юзера, $:  4.059\n"
     ]
    }
   ],
   "source": [
    "# Так как нет вводных данных про Gross Margin и discount rate, считаю LTV через revenue\n",
    "print('Текущий LTV юзера, $: ', round(LTV_current,3))"
   ]
  },
  {
   "cell_type": "code",
   "execution_count": 62,
   "id": "ee8d436f",
   "metadata": {},
   "outputs": [
    {
     "name": "stdout",
     "output_type": "stream",
     "text": [
      "Прогноз LTV на полгода, $:  5.102\n"
     ]
    }
   ],
   "source": [
    "# Прогноз, каким будет LTV на полгода\n",
    "print('Прогноз LTV на полгода, $: ', round(LTV_forecast[-1], 3))"
   ]
  },
  {
   "cell_type": "code",
   "execution_count": 66,
   "id": "4bfb6a68",
   "metadata": {},
   "outputs": [
    {
     "data": {
      "image/png": "[encoded data removed]",
      "text/plain": [
       "<Figure size 432x288 with 1 Axes>"
      ]
     },
     "metadata": {
      "needs_background": "light"
     },
     "output_type": "display_data"
    }
   ],
   "source": [
    "plt.figure()\n",
    "plt.plot(x_fact, LTV_fact, 'ko', label=\"LTV_fact\")\n",
    "plt.plot(x_forecast, LTV_forecast, 'r-', label=\"LTV_forecast\")\n",
    "plt.legend()\n",
    "plt.show()"
   ]
  },
  {
   "cell_type": "code",
   "execution_count": 64,
   "id": "746f8ab7",
   "metadata": {},
   "outputs": [
    {
     "name": "stdout",
     "output_type": "stream",
     "text": [
      "ROMI на 4 недели, %:  -41.45\n",
      "ROMI на 6 месяцев, %:  -14.96\n"
     ]
    }
   ],
   "source": [
    "print('ROMI на 4 недели, %: ', round(ROMI_4_weeks, 2))\n",
    "print('ROMI на 6 месяцев, %: ', round(ROMI_26_weeks, 2))"
   ]
  },
  {
   "cell_type": "markdown",
   "id": "b148a7f3",
   "metadata": {},
   "source": [
    "# Вывод"
   ]
  },
  {
   "cell_type": "code",
   "execution_count": 65,
   "id": "ba4435ff",
   "metadata": {},
   "outputs": [],
   "source": [
    "# Вывод: трафик не окупается за 6 месяцев\n",
    "\n",
    "# Варианты действий:\n",
    "# 1. Ждать дольше - не подходит, т.к. прогнозируемый LTV на 1 год < $6\n",
    "# 2. Увеличивать retention\n",
    "# 3. Уменьшать CAC"
   ]
  }
 ],
 "metadata": {
  "kernelspec": {
   "display_name": "Python 3",
   "language": "python",
   "name": "python3"
  },
  "language_info": {
   "codemirror_mode": {
    "name": "ipython",
    "version": 3
   },
   "file_extension": ".py",
   "mimetype": "text/x-python",
   "name": "python",
   "nbconvert_exporter": "python",
   "pygments_lexer": "ipython3",
   "version": "3.8.10"
  }
 },
 "nbformat": 4,
 "nbformat_minor": 5
}
